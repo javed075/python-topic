{
  "nbformat": 4,
  "nbformat_minor": 0,
  "metadata": {
    "colab": {
      "provenance": [],
      "authorship_tag": "ABX9TyPQtYmVj+Lb/gUQdii41eia",
      "include_colab_link": true
    },
    "kernelspec": {
      "name": "python3",
      "display_name": "Python 3"
    },
    "language_info": {
      "name": "python"
    }
  },
  "cells": [
    {
      "cell_type": "markdown",
      "metadata": {
        "id": "view-in-github",
        "colab_type": "text"
      },
      "source": [
        "<a href=\"https://colab.research.google.com/github/javed075/python-topic/blob/main/Intersection_of_list.ipynb\" target=\"_parent\"><img src=\"https://colab.research.google.com/assets/colab-badge.svg\" alt=\"Open In Colab\"/></a>"
      ]
    },
    {
      "cell_type": "code",
      "execution_count": 2,
      "metadata": {
        "id": "Hx7ElWdBzblF"
      },
      "outputs": [],
      "source": [
        "listoflist=[[2,2,4,6,7],[2,4,4,2,6],[2,2,4]]"
      ]
    },
    {
      "cell_type": "code",
      "source": [
        "int=set(listoflist[0])\n",
        "int"
      ],
      "metadata": {
        "colab": {
          "base_uri": "https://localhost:8080/"
        },
        "id": "JmK_dWP01Tds",
        "outputId": "0a5013e9-ceaa-473c-bfa1-efc287be4151"
      },
      "execution_count": 3,
      "outputs": [
        {
          "output_type": "execute_result",
          "data": {
            "text/plain": [
              "{2, 4, 6, 7}"
            ]
          },
          "metadata": {},
          "execution_count": 3
        }
      ]
    },
    {
      "cell_type": "code",
      "source": [
        "def findintersectionset (listoflist):\n",
        "  intersectingset=set(listoflist[0])\n",
        "  for list_ in listoflist:\n",
        "    intersectingset=intersectingset.intersection(set(list_))\n",
        "  return(intersectingset)  "
      ],
      "metadata": {
        "id": "8gdEODgb0l6c"
      },
      "execution_count": 3,
      "outputs": []
    },
    {
      "cell_type": "code",
      "source": [
        "intersectingset=findintersectionset(listoflist)\n",
        "intersectingset"
      ],
      "metadata": {
        "colab": {
          "base_uri": "https://localhost:8080/"
        },
        "id": "IQOLnl682vNP",
        "outputId": "6f0ab53c-1876-4747-f1f8-d572cca498d5"
      },
      "execution_count": 5,
      "outputs": [
        {
          "output_type": "execute_result",
          "data": {
            "text/plain": [
              "{2, 4}"
            ]
          },
          "metadata": {},
          "execution_count": 5
        }
      ]
    },
    {
      "cell_type": "code",
      "source": [
        "def createminfreqdictionary(intersectingset,listoflist):\n",
        "  freqdict={}\n",
        "  for elem in intersectingset:\n",
        "    for list_ in listoflist:\n",
        "      cnt=list_.count(elem)\n",
        "      if elem in freqdict:\n",
        "        if freqdict[elem]>cnt:\n",
        "          freqdict[elem]=cnt\n",
        "      else:\n",
        "        freqdict[elem]=cnt\n",
        "  return freqdict       \n",
        "\n"
      ],
      "metadata": {
        "id": "PC7mq2_H4C5z"
      },
      "execution_count": 6,
      "outputs": []
    },
    {
      "cell_type": "code",
      "source": [
        "dict=createminfreqdictionary(intersectingset,listoflist)\n",
        "dict"
      ],
      "metadata": {
        "colab": {
          "base_uri": "https://localhost:8080/"
        },
        "id": "jWeBSCwCZXyt",
        "outputId": "ed46eef4-2593-4bc6-fdd7-e76e9b21ed2a"
      },
      "execution_count": 8,
      "outputs": [
        {
          "output_type": "execute_result",
          "data": {
            "text/plain": [
              "{2: 2, 4: 1}"
            ]
          },
          "metadata": {},
          "execution_count": 8
        }
      ]
    },
    {
      "cell_type": "code",
      "source": [
        "def createlistfromdict(freqdict):\n",
        "  intersectinglist=[]\n",
        "  for key,value in freqdict.items():\n",
        "    intersectinglist=intersectinglist+[key]*value\n",
        "  return intersectinglist  "
      ],
      "metadata": {
        "id": "6sCiDIKkbyxC"
      },
      "execution_count": 9,
      "outputs": []
    },
    {
      "cell_type": "code",
      "source": [
        "createlistfromdict(dict)"
      ],
      "metadata": {
        "colab": {
          "base_uri": "https://localhost:8080/"
        },
        "id": "Yr85iVDZcg0m",
        "outputId": "be714883-b9f4-4e19-fbdc-2319c8f78860"
      },
      "execution_count": 10,
      "outputs": [
        {
          "output_type": "execute_result",
          "data": {
            "text/plain": [
              "[2, 2, 4]"
            ]
          },
          "metadata": {},
          "execution_count": 10
        }
      ]
    },
    {
      "cell_type": "code",
      "source": [
        "for k in dict:\n",
        "  print(k)"
      ],
      "metadata": {
        "colab": {
          "base_uri": "https://localhost:8080/"
        },
        "id": "kYEXUUOfcrmb",
        "outputId": "4f4f9693-85e8-4267-8ff3-ec696045c7e7"
      },
      "execution_count": 15,
      "outputs": [
        {
          "output_type": "stream",
          "name": "stdout",
          "text": [
            "2\n",
            "4\n"
          ]
        }
      ]
    },
    {
      "cell_type": "code",
      "source": [
        "def intersectinglist(list):\n",
        "  intersectingset=findintersectionset (listoflist)\n",
        "  freqdict=createminfreqdictionary(intersectingset,listoflist)\n",
        "  intersectinglist=createlistfromdict(freqdict)\n",
        "  return intersectinglist  "
      ],
      "metadata": {
        "id": "t890mHGFdfky"
      },
      "execution_count": 17,
      "outputs": []
    },
    {
      "cell_type": "code",
      "source": [
        "a=[[3,3,3,4,4,5,6,7],[3,3,4,5,5],[3,3,4,5,6,6]]\n",
        "intersectinglist(a)"
      ],
      "metadata": {
        "colab": {
          "base_uri": "https://localhost:8080/"
        },
        "id": "B5uL40M0ejBW",
        "outputId": "a71cdb72-d1c3-41ae-904d-d92ecf81fe92"
      },
      "execution_count": 19,
      "outputs": [
        {
          "output_type": "execute_result",
          "data": {
            "text/plain": [
              "[2, 2, 4]"
            ]
          },
          "metadata": {},
          "execution_count": 19
        }
      ]
    }
  ]
}